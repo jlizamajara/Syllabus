{
 "cells": [
  {
   "cell_type": "code",
   "execution_count": 2,
   "metadata": {},
   "outputs": [],
   "source": [
    "import Ejemplo"
   ]
  },
  {
   "cell_type": "code",
   "execution_count": 3,
   "metadata": {},
   "outputs": [
    {
     "name": "stdout",
     "output_type": "stream",
     "text": [
      "\n",
      "            Menu:\n",
      "                1: Mostrar Post-Its\n",
      "                2: Buscar Post-Its\n",
      "                3: Agregar nuevo Post-It\n",
      "                4: Modificar Post-It existente\n",
      "                5: Salir\n",
      "            \n",
      "Ingrese Opcion: 5\n",
      "Gracias por usar nuestro Post-It\n"
     ]
    }
   ],
   "source": [
    "Ejemplo.Menu().run()"
   ]
  },
  {
   "cell_type": "code",
   "execution_count": null,
   "metadata": {},
   "outputs": [],
   "source": []
  }
 ],
 "metadata": {
  "kernelspec": {
   "display_name": "Python 3",
   "language": "python",
   "name": "python3"
  },
  "language_info": {
   "codemirror_mode": {
    "name": "ipython",
    "version": 3
   },
   "file_extension": ".py",
   "mimetype": "text/x-python",
   "name": "python",
   "nbconvert_exporter": "python",
   "pygments_lexer": "ipython3",
   "version": "3.8.3"
  }
 },
 "nbformat": 4,
 "nbformat_minor": 4
}
