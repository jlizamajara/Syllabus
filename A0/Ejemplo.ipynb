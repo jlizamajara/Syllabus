{
 "cells": [
  {
   "cell_type": "markdown",
   "metadata": {},
   "source": [
    "<p>\n",
    "<font size='5' face='Georgia, Arial'>IIC-2115 Programación como herramienta para la ingeniería</font><br>\n",
    "<font size='1'>Basado en: &copy; 2015 Karim Pichara - Christian Pieringer. Todos los derechos reservados.</font>\n",
    "</p>"
   ]
  },
  {
   "cell_type": "markdown",
   "metadata": {},
   "source": [
    "<h2>Ejemplo: Post It </h2>\n",
    "Veamos ahora un ejemplo más acabado de orientación a objetos:"
   ]
  },
  {
   "cell_type": "markdown",
   "metadata": {},
   "source": [
    "<h3> Clase PostIt: </h3>"
   ]
  },
  {
   "cell_type": "code",
   "execution_count": 1,
   "metadata": {},
   "outputs": [],
   "source": [
    "#Ejemplo: Programa para manejar postits en un panel mural\n",
    "\n",
    "import datetime\n",
    "\n",
    "class PostIt:\n",
    "    ''' Representa un post it, contiene un mensaje, guarda un conjunto de tags y responde si hay match con ciertos tags\n",
    "        Contiene ademas un id\n",
    "    '''\n",
    "    last_id = 0 #variable estática para manejar el ultimo id generado\n",
    "    \n",
    "    def __init__(self, mensaje, tags = ''):\n",
    "        self.mensaje = mensaje\n",
    "        self.tags = tags\n",
    "        self.creation_date = datetime.date.today()\n",
    "        self._id = PostIt.last_id #variable de la clase para manejar el ultimo id generado\n",
    "        PostIt.last_id += 1\n",
    "\n",
    "    def match(self, keyword):\n",
    "        ''' determina si el mensaje de la nota contiene el keyword o no'''\n",
    "        return keyword in self.mensaje or keyword in self.tags\n"
   ]
  },
  {
   "cell_type": "markdown",
   "metadata": {},
   "source": [
    "<h3> Clase Panel: </h3>"
   ]
  },
  {
   "cell_type": "code",
   "execution_count": 2,
   "metadata": {},
   "outputs": [],
   "source": [
    "class Panel:\n",
    "    ''' Representa un panel con un conjunto de postits (con memos) pegados\n",
    "        cada hoja ademas de un memo tiene tags, asi podemos buscar hojas\n",
    "        tambien podemos modificarlas\n",
    "    '''\n",
    "\n",
    "    def __init__(self):\n",
    "        self.postit_dict = {}\n",
    "\n",
    "    #esta función será necesaria para varios métodos de la clase\n",
    "    #una mejor opción es usar un diccionario e indexar por el id del postit\n",
    "    #def _buscar_postit_id(self, postit_id):\n",
    "    #    ''' Busca el postit correspondiente al id'''\n",
    "    #    for p in self.postit_dict:\n",
    "    #        if p._id == postit_id:\n",
    "    #            return p\n",
    "    #    return None\n",
    "\n",
    "    def nuevo_postit(self, texto, tags=''):\n",
    "        '''Agrega una hoja con un mensaje a nuestro muro'''\n",
    "        p = PostIt(texto, tags)\n",
    "        self.postit_dict.update({p._id : p})\n",
    "\n",
    "\n",
    "    def modifica_mensaje(self, postit_id, mensaje_nuevo):\n",
    "        #este for era una opcion pero es mejor hacer una fucion aparte que busque, para\n",
    "        #no repetir codigo en la funcion modifica_tags\n",
    "        #for p in self.postit_dict:\n",
    "        #    if p._id == postit_id:\n",
    "        self.postit_dict[postit_id].mensaje = mensaje_nuevo\n",
    "\n",
    "\n",
    "    def modifica_tags(self, postit_id, tags_nuevos):\n",
    "        self.postit_dict[postit_id].tags = tags_nuevos\n",
    "\n",
    "    def buscar_postits(self, keyword):\n",
    "        return [p for p in self.postit_dict.values() if p.match(keyword)]\n",
    "\n",
    "\n",
    "    def display(self, keyword=None):\n",
    "        ''' Muestra todos los post its en el panel'''\n",
    "        result = []\n",
    "        if keyword:\n",
    "            result = [p for p in self.buscar_postits(keyword)]\n",
    "        else:\n",
    "            result = self.postit_dict\n",
    "\n",
    "        for p in result:\n",
    "            print(\"post it {0}: \\n Mensaje: {1} \\n Tags: {2}\".format(p._id, p.mensaje, p.tags))"
   ]
  },
  {
   "cell_type": "code",
   "execution_count": 3,
   "metadata": {},
   "outputs": [],
   "source": [
    "opciones = {\n",
    "                        \"1\": \"self.display_postits\",\n",
    "                        \"2\": \"self.buscar_postits\"\n",
    "                        }"
   ]
  },
  {
   "cell_type": "code",
   "execution_count": 4,
   "metadata": {},
   "outputs": [
    {
     "data": {
      "text/plain": [
       "False"
      ]
     },
     "execution_count": 4,
     "metadata": {},
     "output_type": "execute_result"
    }
   ],
   "source": [
    "bool(opciones.get(\"0\"))"
   ]
  },
  {
   "cell_type": "markdown",
   "metadata": {},
   "source": [
    "<h3> Menú para crear, editar, leer, etc. PostIts:</h3>"
   ]
  },
  {
   "cell_type": "code",
   "execution_count": 5,
   "metadata": {},
   "outputs": [],
   "source": [
    "import sys\n",
    "# from postit import PostIt, Panel\n",
    "# Aquí no es necesario por el iPython, pero si tenemos un archivo separado para el menu hay que\n",
    "# importar estas clases\n",
    "\n",
    "class Menu:\n",
    "    def __init__(self):\n",
    "        self.panel = Panel()\n",
    "        self.opciones = {\n",
    "                        \"1\": self.display_postits,\n",
    "                        \"2\": self.buscar_postits,\n",
    "                        \"3\": self.agregar_postit,\n",
    "                        \"4\": self.modificar_postit,\n",
    "                        \"5\": self.salir\n",
    "                        }\n",
    "\n",
    "    def display_menu(self):\n",
    "        print(\"\"\"\n",
    "            Menu:\n",
    "                1: Mostrar Post-Its\n",
    "                2: Buscar Post-Its\n",
    "                3: Agregar nuevo Post-It\n",
    "                4: Modificar Post-It existente\n",
    "                5: Salir\n",
    "            \"\"\")\n",
    "\n",
    "    def run(self):\n",
    "        running = True\n",
    "        while running:\n",
    "            self.display_menu()\n",
    "            eleccion = input(\"Ingrese Opcion: \")\n",
    "            accion = self.opciones.get(eleccion)\n",
    "            if accion:\n",
    "                accion()  # aqui se llama a la funcion\n",
    "            else:\n",
    "                print(\"{0} no es una opcion valida\".format(eleccion))\n",
    "            if eleccion == '5':\n",
    "                running = False\n",
    "\n",
    "    def display_postits(self, p_list=None):\n",
    "        if not p_list:\n",
    "            p_list = self.panel.postit_dict.values()  # si no dan la lista a mostrar, mostramos todos los post-its\n",
    "\n",
    "        if not p_list:\n",
    "            print(\"No hay Post-Its creados...\")\n",
    "        else:\n",
    "            for p in p_list:\n",
    "                print(\"post it {0}: \\n Mensaje: {1} \\n Tags: {2}\".format(p._id, p.mensaje, p.tags))\n",
    "\n",
    "\n",
    "    def buscar_postits(self):\n",
    "        keyword = input(\"Ingrese keyword: \")\n",
    "        postit_list = self.panel.buscar_postits(keyword)\n",
    "        self.display_postits(postit_list)\n",
    "\n",
    "    def agregar_postit(self):\n",
    "        mensaje = input(\"Ingrese Mensaje: \")\n",
    "        tag_list = input(\"Ingrese Tags separados por espacios: \")\n",
    "        tag_list = tag_list.split()  # separa los strings por espacio y los pone en una lista\n",
    "        self.panel.nuevo_postit(mensaje, tag_list)\n",
    "        print(\"Nota creada exitosamente!!\")\n",
    "\n",
    "    def modificar_postit(self):\n",
    "        _id = input(\"ingrese el id del Post-It que quiere modificar: \")\n",
    "        _id = int(_id)\n",
    "        while _id not in self.panel.postit_dict.keys():\n",
    "            print(\"El id no existe en la base de datos..\")\n",
    "            _id = input(\"ingrese el id del Post-It que quiere modificar: \")\n",
    "            _id = int(_id)\n",
    "        \n",
    "        mensaje = input(\"Ingrese el nuevo mensaje: \")\n",
    "        tag_list = input(\"Ingrese los nuevos tags separados por espacios: \")\n",
    "        if mensaje:\n",
    "            print(_id)\n",
    "            self.panel.modifica_mensaje(_id, mensaje)\n",
    "        if tag_list:\n",
    "            tag_list = tag_list.split()\n",
    "            self.panel.modifica_tags(_id, tag_list)\n",
    "        print(\"postit modificado exitosamente!!\")\n",
    "            \n",
    "    def salir(self):\n",
    "        print(\"Gracias por usar nuestro Post-It\")"
   ]
  },
  {
   "cell_type": "code",
   "execution_count": 7,
   "metadata": {},
   "outputs": [
    {
     "name": "stdout",
     "output_type": "stream",
     "text": [
      "\n",
      "            Menu:\n",
      "                1: Mostrar Post-Its\n",
      "                2: Buscar Post-Its\n",
      "                3: Agregar nuevo Post-It\n",
      "                4: Modificar Post-It existente\n",
      "                5: Salir\n",
      "            \n",
      "Ingrese Opcion: 5\n",
      "Gracias por usar nuestro Post-It\n"
     ]
    }
   ],
   "source": [
    "if __name__ == \"__main__\":   # esto es para que corra en la consola\n",
    "    Menu().run()"
   ]
  }
 ],
 "metadata": {
  "kernelspec": {
   "display_name": "Python 3",
   "language": "python",
   "name": "python3"
  },
  "language_info": {
   "codemirror_mode": {
    "name": "ipython",
    "version": 3
   },
   "file_extension": ".py",
   "mimetype": "text/x-python",
   "name": "python",
   "nbconvert_exporter": "python",
   "pygments_lexer": "ipython3",
   "version": "3.8.3"
  }
 },
 "nbformat": 4,
 "nbformat_minor": 1
}
